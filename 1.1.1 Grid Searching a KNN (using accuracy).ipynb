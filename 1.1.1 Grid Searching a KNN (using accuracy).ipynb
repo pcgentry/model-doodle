{
 "cells": [
  {
   "cell_type": "code",
   "execution_count": 13,
   "metadata": {},
   "outputs": [],
   "source": [
    "import timeit\n",
    "import pandas as pd\n",
    "import numpy as np\n",
    "\n",
    "from sklearn import datasets\n",
    "from sklearn.metrics import f1_score\n",
    "from sklearn.model_selection import train_test_split, KFold, GridSearchCV\n",
    "from sklearn.pipeline import Pipeline\n",
    "from sklearn.preprocessing import StandardScaler\n",
    "\n",
    "from sklearn.neighbors import KNeighborsClassifier"
   ]
  },
  {
   "cell_type": "markdown",
   "metadata": {},
   "source": [
    "## Using the Iris dataset, because we have more than 2 classifications the code would need to change a bit in order to use precision, recall, or f1 score."
   ]
  },
  {
   "cell_type": "code",
   "execution_count": 14,
   "metadata": {},
   "outputs": [],
   "source": [
    "score_metric = 'accuracy'\n",
    "\n",
    "iris = datasets.load_iris()\n",
    "X = iris.data[:, :2]  # we only take the first two features.\n",
    "y = iris.target\n",
    "\n",
    "kf = KFold(10)\n",
    "X_train, X_test, y_train, y_test = train_test_split(X, y, test_size=0.33, random_state=42)"
   ]
  },
  {
   "cell_type": "markdown",
   "metadata": {},
   "source": [
    "### Common grid hyper parameter settings for KNN:"
   ]
  },
  {
   "cell_type": "code",
   "execution_count": 15,
   "metadata": {},
   "outputs": [
    {
     "name": "stdout",
     "output_type": "stream",
     "text": [
      "KNN Testing Score: 0.78\n",
      "seconds: 0.07386538700006895\n",
      "0.72\n",
      "{'classifier__algorithm': 'ball_tree', 'classifier__leaf_size': 186, 'classifier__n_neighbors': 3, 'classifier__weights': 'uniform', 'scaler__with_mean': True, 'scaler__with_std': True}\n",
      "Pipeline(steps=[('scaler', StandardScaler()),\n",
      "                ('classifier',\n",
      "                 KNeighborsClassifier(algorithm='ball_tree', leaf_size=186,\n",
      "                                      n_neighbors=3))])\n"
     ]
    }
   ],
   "source": [
    "knn_pipe = Pipeline([('scaler', StandardScaler()), ('classifier', KNeighborsClassifier())])\n",
    "\n",
    "grid_params = [{\n",
    "    'scaler__with_mean': [True],\n",
    "    'scaler__with_std': [True],\n",
    "    'classifier__algorithm': ['ball_tree'], # 'auto', 'ball_tree', 'kd_tree', 'brute'\n",
    "    'classifier__leaf_size': [186],\n",
    "    'classifier__n_neighbors': [3],\n",
    "    'classifier__weights': ['uniform', 'distance'] #'uniform', 'distance'\n",
    "}]\n",
    "\n",
    "grid = GridSearchCV(knn_pipe, grid_params, cv=kf, scoring = score_metric)\n",
    "\n",
    "timing = timeit.timeit(lambda: grid.fit(X_train, y_train), number=1)\n",
    "score = grid.score(X_test, y_test)\n",
    "\n",
    "print(\"KNN Testing Score: {}\".format(score))\n",
    "print(\"seconds:\", timing)\n",
    "print (grid.best_score_)\n",
    "print (grid.best_params_)\n",
    "print (grid.best_estimator_)"
   ]
  },
  {
   "cell_type": "code",
   "execution_count": null,
   "metadata": {},
   "outputs": [],
   "source": []
  },
  {
   "cell_type": "code",
   "execution_count": null,
   "metadata": {},
   "outputs": [],
   "source": []
  }
 ],
 "metadata": {
  "kernelspec": {
   "display_name": "Python 3",
   "language": "python",
   "name": "python3"
  },
  "language_info": {
   "codemirror_mode": {
    "name": "ipython",
    "version": 3
   },
   "file_extension": ".py",
   "mimetype": "text/x-python",
   "name": "python",
   "nbconvert_exporter": "python",
   "pygments_lexer": "ipython3",
   "version": "3.8.7"
  }
 },
 "nbformat": 4,
 "nbformat_minor": 4
}
