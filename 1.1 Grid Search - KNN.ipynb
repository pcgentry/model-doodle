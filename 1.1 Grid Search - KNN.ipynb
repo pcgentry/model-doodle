{
 "cells": [
  {
   "cell_type": "markdown",
   "metadata": {},
   "source": [
    "# Grid Search - KNN\n",
    "\n",
    "Perform a basic grid search using common hyper-parameters for\n"
   ]
  },
  {
   "cell_type": "code",
   "execution_count": 1,
   "metadata": {},
   "outputs": [],
   "source": [
    "import timeit\n",
    "import pandas as pd\n",
    "import numpy as np\n",
    "\n",
    "from sklearn import datasets\n",
    "from sklearn.metrics import f1_score\n",
    "from sklearn.model_selection import train_test_split, KFold, GridSearchCV\n",
    "from sklearn.pipeline import Pipeline\n",
    "from sklearn.preprocessing import StandardScaler\n",
    "\n",
    "from sklearn.neighbors import KNeighborsClassifier"
   ]
  },
  {
   "cell_type": "markdown",
   "metadata": {},
   "source": [
    "We are using the Iris dataset, but because we have more than 2 classifications the code would need to change a bit in order to use precision, recall, or f1 score. So this notebook is just accuracy, the others will be in another notebook."
   ]
  },
  {
   "cell_type": "code",
   "execution_count": 2,
   "metadata": {},
   "outputs": [],
   "source": [
    "score_metrics = ['accuracy', 'precision', 'recall', 'f1']\n",
    "\n",
    "iris = datasets.load_iris()\n",
    "\n",
    "X = iris.data[:100]\n",
    "y = iris.target[:100]\n",
    "\n",
    "kf = KFold(3)\n",
    "X_train, X_test, y_train, y_test = train_test_split(X, y, test_size=0.33, random_state=42)"
   ]
  },
  {
   "cell_type": "markdown",
   "metadata": {},
   "source": [
    "### Common grid hyper parameter settings for KNN:"
   ]
  },
  {
   "cell_type": "code",
   "execution_count": 3,
   "metadata": {},
   "outputs": [
    {
     "name": "stdout",
     "output_type": "stream",
     "text": [
      "\n",
      "\n",
      " ----------------    KNN accuracy  ---------------\n",
      "KNN accuracy: 1.0\n",
      "seconds: 0.5299002040000005\n",
      "1.0\n",
      "{'classifier__algorithm': 'auto', 'classifier__leaf_size': 1, 'classifier__n_neighbors': 1, 'classifier__weights': 'uniform', 'scaler__with_mean': True, 'scaler__with_std': True}\n",
      "Pipeline(steps=[('scaler', StandardScaler()),\n",
      "                ('classifier',\n",
      "                 KNeighborsClassifier(leaf_size=1, n_neighbors=1))])\n",
      "\n",
      "\n",
      " ----------------    KNN precision  ---------------\n",
      "KNN precision: 1.0\n",
      "seconds: 0.7331441989999803\n",
      "1.0\n",
      "{'classifier__algorithm': 'auto', 'classifier__leaf_size': 1, 'classifier__n_neighbors': 1, 'classifier__weights': 'uniform', 'scaler__with_mean': True, 'scaler__with_std': True}\n",
      "Pipeline(steps=[('scaler', StandardScaler()),\n",
      "                ('classifier',\n",
      "                 KNeighborsClassifier(leaf_size=1, n_neighbors=1))])\n",
      "\n",
      "\n",
      " ----------------    KNN recall  ---------------\n",
      "KNN recall: 1.0\n",
      "seconds: 0.658599871999968\n",
      "1.0\n",
      "{'classifier__algorithm': 'auto', 'classifier__leaf_size': 1, 'classifier__n_neighbors': 1, 'classifier__weights': 'uniform', 'scaler__with_mean': True, 'scaler__with_std': True}\n",
      "Pipeline(steps=[('scaler', StandardScaler()),\n",
      "                ('classifier',\n",
      "                 KNeighborsClassifier(leaf_size=1, n_neighbors=1))])\n",
      "\n",
      "\n",
      " ----------------    KNN f1  ---------------\n",
      "KNN f1: 1.0\n",
      "seconds: 0.6437970760000553\n",
      "1.0\n",
      "{'classifier__algorithm': 'auto', 'classifier__leaf_size': 1, 'classifier__n_neighbors': 1, 'classifier__weights': 'uniform', 'scaler__with_mean': True, 'scaler__with_std': True}\n",
      "Pipeline(steps=[('scaler', StandardScaler()),\n",
      "                ('classifier',\n",
      "                 KNeighborsClassifier(leaf_size=1, n_neighbors=1))])\n"
     ]
    }
   ],
   "source": [
    "for score_metric in score_metrics:\n",
    "    print(f\"\\n\\n ----------------    KNN {score_metric}  ---------------\")\n",
    "    \n",
    "    knn_pipe = Pipeline([('scaler', StandardScaler()), ('classifier', KNeighborsClassifier())])\n",
    "\n",
    "    grid_params = [{\n",
    "        'scaler__with_mean': [True],\n",
    "        'scaler__with_std': [True],\n",
    "        'classifier__algorithm': ['auto','ball_tree','kd_tree','brute'], # 'auto', 'ball_tree', 'kd_tree', 'brute'\n",
    "        'classifier__leaf_size': range(1,10,5),\n",
    "        'classifier__n_neighbors': range(1,16,4),\n",
    "        'classifier__weights': ['uniform', 'distance'] #'uniform', 'distance'\n",
    "    }]\n",
    "\n",
    "    grid = GridSearchCV(knn_pipe, grid_params, cv=kf, scoring = score_metric)\n",
    "\n",
    "    timing = timeit.timeit(lambda: grid.fit(X_train, y_train), number=1)\n",
    "    score = grid.score(X_test, y_test)\n",
    "\n",
    "    print(f\"KNN {score_metric}: {score}\")\n",
    "    print(\"seconds:\", timing)\n",
    "    print (grid.best_score_)\n",
    "    print (grid.best_params_)\n",
    "    print (grid.best_estimator_)"
   ]
  },
  {
   "cell_type": "code",
   "execution_count": null,
   "metadata": {},
   "outputs": [],
   "source": []
  }
 ],
 "metadata": {
  "kernelspec": {
   "display_name": "Python 3",
   "language": "python",
   "name": "python3"
  },
  "language_info": {
   "codemirror_mode": {
    "name": "ipython",
    "version": 3
   },
   "file_extension": ".py",
   "mimetype": "text/x-python",
   "name": "python",
   "nbconvert_exporter": "python",
   "pygments_lexer": "ipython3",
   "version": "3.8.7"
  }
 },
 "nbformat": 4,
 "nbformat_minor": 4
}
